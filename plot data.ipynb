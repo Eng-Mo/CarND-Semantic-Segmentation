{
 "cells": [
  {
   "cell_type": "code",
   "execution_count": 31,
   "metadata": {
    "collapsed": true
   },
   "outputs": [],
   "source": [
    "\n",
    "import numpy as np\n",
    "import PIL\n",
    "from PIL import Image\n",
    "import scipy.misc\n",
    "\n",
    "image_shape = (160, 576)\n",
    "\n",
    "list_im = [\n",
    "#     './output_images/colorTH-test1.png'\n",
    "#           ,'./output_images/combined-test1.png'\n",
    "          './runs/Images results/r1.png',\n",
    "          './runs/Images results/r2.png', \n",
    "           './runs/Images results/r3.png',\n",
    "            './runs/Images results/r4.png',\n",
    "            './runs/Images results/r5.png',\n",
    "            './runs/Images results/r6.png'\n",
    "          ]\n",
    "imgs    = [ PIL.Image.open(i) for i in list_im ]\n",
    "#pick the image which is the smallest, and resize the others to match it (can be arbitrary image shape here)\n",
    "# min_shape = sorted( [(np.sum(i.size), i.size ) for i in imgs])[0][1]\n",
    "# imgs_comb = np.hstack( (np.asarray( i) ) for i in imgs ) \n",
    "\n",
    "# # save that beautiful picture\n",
    "# imgs_comb = PIL.Image.fromarray( imgs_comb)\n",
    "# imgs_comb.save( './runs/Images results/r6.png' )    \n",
    "\n",
    "# for a vertical stacking it is simple: use vstack\n",
    "imgs_comb = np.vstack( (np.asarray( i ) for i in imgs ) )\n",
    "imgs_comb = PIL.Image.fromarray( imgs_comb)\n",
    "imgs_comb.save( './runs/Images results/combined.png' )"
   ]
  },
  {
   "cell_type": "code",
   "execution_count": 12,
   "metadata": {},
   "outputs": [
    {
     "data": {
      "text/plain": [
       "<Figure size 432x288 with 0 Axes>"
      ]
     },
     "metadata": {},
     "output_type": "display_data"
    },
    {
     "data": {
      "image/png": "[encoded data removed]",
      "text/plain": [
       "<Figure size 432x288 with 1 Axes>"
      ]
     },
     "metadata": {},
     "output_type": "display_data"
    }
   ],
   "source": [
    "\n",
    "import numpy as np\n",
    "import PIL\n",
    "from PIL import Image\n",
    "import scipy.misc\n",
    "import csv\n",
    "import matplotlib.pyplot as plt\n",
    "\n",
    "count=0\n",
    "x=[]\n",
    "y=[]\n",
    "with open ('EL.csv','r') as csvfile:\n",
    "    plots=csv.reader(csvfile, delimiter=',')\n",
    "    for row in plots:\n",
    "        count+=1\n",
    "        if count>2:\n",
    "            x.append(float(row[0]))\n",
    "            y.append(float(row[1]))\n",
    "            \n",
    "\n",
    "plt.figure()\n",
    "plt.plot(x,y,label='Loss')            \n",
    "plt.xlabel('Epoch')\n",
    "plt.ylabel('Loss')\n",
    "plt.title(' Mean Cross Entropy Loss per Epoch')\n",
    "plt.legend()\n",
    "plt.savefig('./runs/Images results/loss_plot.png')\n",
    "plt.show()\n",
    "\n",
    "\n",
    "            \n",
    "            \n",
    "        \n",
    "\n"
   ]
  }
 ],
 "metadata": {
  "kernelspec": {
   "display_name": "Python 3",
   "language": "python",
   "name": "python3"
  },
  "language_info": {
   "codemirror_mode": {
    "name": "ipython",
    "version": 3
   },
   "file_extension": ".py",
   "mimetype": "text/x-python",
   "name": "python",
   "nbconvert_exporter": "python",
   "pygments_lexer": "ipython3",
   "version": "3.6.5"
  }
 },
 "nbformat": 4,
 "nbformat_minor": 2
}
